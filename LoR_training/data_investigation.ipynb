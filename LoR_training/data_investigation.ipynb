{
 "cells": [
  {
   "cell_type": "code",
   "execution_count": null,
   "metadata": {},
   "outputs": [],
   "source": [
    "import numpy as np\n",
    "import matplotlib.pylot as plt\n",
    "import glob\n",
    "\n",
    "from LoR_Methods import Subtrial, LoR_Analysis, file_process\n",
    "from Statistical_Methods import Statistic\n",
    "\n",
    "rootFolder = \"/Users/haotianli/Code/EngertLab/Data/stimulus_meanLoR_v8\"\n",
    "index_fish_trial_objects = file_process.get_trial_objects(rootFolder)"
   ]
  }
 ],
 "metadata": {
  "language_info": {
   "name": "python"
  }
 },
 "nbformat": 4,
 "nbformat_minor": 2
}
