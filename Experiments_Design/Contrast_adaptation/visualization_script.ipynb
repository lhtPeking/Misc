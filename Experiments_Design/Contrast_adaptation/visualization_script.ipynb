{
 "cells": [
  {
   "cell_type": "code",
   "execution_count": null,
   "metadata": {},
   "outputs": [],
   "source": [
    "contrast_data_0721_rig1_path = \"/Users/haotianli/Code/EngertLab/Data/0720_0721/rig1/20250721/stimulus_contrast_v1_debugged\"\n",
    "contrast_data_0721_rig2_path = \"/Users/haotianli/Code/EngertLab/Data/0720_0721/rig2/20250721/stimulus_contrast_v1_debugged\"\n",
    "\n",
    "contrast_data_0720_rig1_path = \"/Users/haotianli/Code/EngertLab/Data/0720_0721/rig1/20250720/stimulus_contrast_v1_debugged\"\n",
    "contrast_data_0720_rig2_path = \"/Users/haotianli/Code/EngertLab/Data/0720_0721/rig2/20250720/stimulus_contrast_v1_debugged\""
   ]
  }
 ],
 "metadata": {
  "language_info": {
   "name": "python"
  }
 },
 "nbformat": 4,
 "nbformat_minor": 2
}
