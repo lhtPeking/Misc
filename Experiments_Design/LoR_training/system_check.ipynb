{
 "cells": [
  {
   "cell_type": "code",
   "execution_count": null,
   "metadata": {},
   "outputs": [],
   "source": [
    "import numpy as np\n",
    "import matplotlib.pyplot as plt\n",
    "import glob\n",
    "\n",
    "from LoR_Methods import Subtrial, LoR_Analysis, file_process\n",
    "from Statistical_Methods import Statistic\n",
    "\n",
    "LoR_stimulus_paths, LoR_HT_paths = file_process.extract_original_folder(\"/Users/haotianli/Code/EngertLab/Data/stimulus_meanLoR_v8\")\n",
    "print(\"LoR_stimulus_paths Shape:\", np.array(LoR_stimulus_paths).shape)\n",
    "print(\"LoR_HT_paths Shape:\", np.array(LoR_HT_paths).shape)\n",
    "# print(LoR_HT_paths[2][3])\n",
    "# print(LoR_stimulus_paths[2][3])\n",
    "\n",
    "### below needs to be modified ###\n",
    "\n",
    "fish_number = 0\n",
    "subtrial_number = 0\n",
    "\n",
    "list_index0 = []\n",
    "list_index1 = []\n",
    "list_index2 = []\n",
    "\n",
    "\n",
    "for stimulus_individual, HT_individual in zip(LoR_stimulus_paths, LoR_HT_paths):\n",
    "    \n",
    "    object_index0 = []\n",
    "    object_index1 = []\n",
    "    object_index2 = []\n",
    "    \n",
    "    for stimulus_subtrial, HT_subtrial  in zip(stimulus_individual, HT_individual):\n",
    "        stimulus_matrix = np.load(stimulus_subtrial)\n",
    "        HT_matrix = np.load(HT_subtrial)\n",
    "        \n",
    "        stimulus_index = LoR_Analysis.check_index(stimulus_matrix['stimulus_data'][:, 2], 1000)\n",
    "        \n",
    "        subtrial_object = Subtrial(stimulus_matrix, HT_matrix, fish_number, subtrial_number, stimulus_index)\n",
    "            \n",
    "        if stimulus_index == 0:\n",
    "            object_index0.append(subtrial_object)\n",
    "        elif stimulus_index == 1:\n",
    "            object_index1.append(subtrial_object)\n",
    "        elif stimulus_index == 2:\n",
    "            object_index2.append(subtrial_object)\n",
    "        else:\n",
    "            raise ValueError(\"Invalid stimulus index.\")\n",
    "            \n",
    "        # subtrial_object.preference_analysis()\n",
    "        subtrial_number += 1\n",
    "    \n",
    "    fish_number += 1\n",
    "    subtrial_number = 0\n",
    "    list_index0.append(object_index0)\n",
    "    list_index1.append(object_index1)\n",
    "    list_index2.append(object_index2)\n",
    "    \n",
    "    \n",
    "print(list_index0)\n",
    "print(list_index1)\n",
    "print(list_index2)\n",
    "\n",
    "# stimulus_list_index1[0][0].preference_analysis()\n",
    "# print(stimulus_list_index1[0][0].CL_preference)\n",
    "# print(stimulus_list_index1[0][0].Condition_preference)"
   ]
  },
  {
   "cell_type": "code",
   "execution_count": null,
   "metadata": {},
   "outputs": [],
   "source": [
    "# print(list_index1[0][0].stimulus_matrix['stimulus_data'][:, 8])\n",
    "# print(len(list_index1[0][0].stimulus_matrix['stimulus_data'][:, 8]))\n",
    "\n",
    "print(list_index0[0][0].stimulus_matrix['stimulus_time'])\n",
    "print(list_index0[0][0].stimulus_matrix['stimulus_time'] - list_index0[0][0].stimulus_matrix['stimulus_time'][0])\n",
    "print(len(list_index0[0][0].stimulus_matrix['stimulus_time']))\n",
    "\n",
    "print(list_index0[0][0].HT_matrix['camera_time'])\n",
    "print(list_index0[0][0].HT_matrix['camera_time'] - list_index0[0][0].HT_matrix['camera_time'][0])\n",
    "print(len(list_index0[0][0].HT_matrix['camera_time']))\n",
    "\n",
    "\n",
    "#print(list_index1[0][0].HT_matrix[])"
   ]
  },
  {
   "cell_type": "code",
   "execution_count": null,
   "metadata": {},
   "outputs": [],
   "source": [
    "list_index0[4][0].visualization(mode='stimulus_curr_angle', forced=1)\n",
    "list_index0[4][0].visualization(mode='HT_curr_angle', forced=1)"
   ]
  }
 ],
 "metadata": {
  "kernelspec": {
   "display_name": "Universal",
   "language": "python",
   "name": "python3"
  },
  "language_info": {
   "codemirror_mode": {
    "name": "ipython",
    "version": 3
   },
   "file_extension": ".py",
   "mimetype": "text/x-python",
   "name": "python",
   "nbconvert_exporter": "python",
   "pygments_lexer": "ipython3",
   "version": "3.13.2"
  }
 },
 "nbformat": 4,
 "nbformat_minor": 2
}
