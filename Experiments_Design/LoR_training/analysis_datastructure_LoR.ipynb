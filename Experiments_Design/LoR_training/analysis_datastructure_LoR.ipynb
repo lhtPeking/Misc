{
 "cells": [
  {
   "cell_type": "code",
   "execution_count": null,
   "metadata": {},
   "outputs": [],
   "source": [
    "import numpy as np\n",
    "import matplotlib.pyplot as plt\n",
    "\n",
    "fish000_trail000_head_tail = np.load('/Users/haotianli/Code/EngertLab/Data/stimulus_meanLoR_v3/2025-07-03_14-46-21_fish000/rawdata/trial000_head_tail_data.npz')\n",
    "fish000_trail000_stimulus = np.load('/Users/haotianli/Code/EngertLab/Data/stimulus_meanLoR_v3/2025-07-03_14-46-21_fish000/rawdata/trial000_stimulus_data.npz')"
   ]
  },
  {
   "cell_type": "code",
   "execution_count": null,
   "metadata": {},
   "outputs": [],
   "source": [
    "print('Head & Tail Files:fish000_trail000_head_tail.files', )\n",
    "print('Stimulus Files:', fish000_trail000_stimulus.files)"
   ]
  },
  {
   "cell_type": "code",
   "execution_count": null,
   "metadata": {},
   "outputs": [],
   "source": [
    "for file in fish000_trail000_head_tail.files:\n",
    "    print(file, \"Shape:\", fish000_trail000_head_tail[file].shape)\n",
    "    \n",
    "print()\n",
    "    \n",
    "for file in fish000_trail000_stimulus.files:\n",
    "    print(file, \"Shape:\", fish000_trail000_stimulus[file].shape)"
   ]
  },
  {
   "cell_type": "code",
   "execution_count": null,
   "metadata": {},
   "outputs": [],
   "source": [
    "plt.figure(figsize=(10,3))\n",
    "plt.plot(fish000_trail000_head_tail['camera_time'])\n",
    "plt.show()"
   ]
  },
  {
   "cell_type": "code",
   "execution_count": null,
   "metadata": {},
   "outputs": [],
   "source": [
    "plt.figure(figsize=(10,3))\n",
    "plt.plot(fish000_trail000_stimulus['stimulus_time'])\n",
    "plt.show()"
   ]
  },
  {
   "cell_type": "code",
   "execution_count": null,
   "metadata": {},
   "outputs": [],
   "source": [
    "# plt.figure(figsize=(10,3))\n",
    "# plt.plot(fish000_trail000_head_tail['tail_bout_information'][9500:12000])\n",
    "# plt.show()\n",
    "\n",
    "# plt.figure(figsize=(10,3))\n",
    "# plt.plot(fish000_trail000_head_tail['tail_tip_deflection'][9500:12000])\n",
    "# plt.show()\n",
    "\n",
    "###########\n",
    "\n",
    "# plt.figure(figsize=(10,3))\n",
    "# plt.plot(fish000_trail000_stimulus['stimulus_data'][:, 0])\n",
    "# plt.title('trial_num')\n",
    "# plt.show()\n",
    "\n",
    "# plt.figure(figsize=(10,3))\n",
    "# plt.plot(fish000_trail000_stimulus['stimulus_data'][:, 1])\n",
    "# plt.title('trial_num_processed')\n",
    "# plt.show()\n",
    "\n",
    "# plt.figure(figsize=(10,3))\n",
    "# plt.plot(fish000_trail000_stimulus['stimulus_data'][:, 2])\n",
    "# plt.title('stimulus_index')\n",
    "# plt.show()\n",
    "\n",
    "# plt.figure(figsize=(10,3))\n",
    "# plt.plot(fish000_trail000_stimulus['stimulus_data'][:, 3])\n",
    "# plt.title('gain')\n",
    "# plt.show()\n",
    "\n",
    "# plt.figure(figsize=(10,3))\n",
    "# plt.plot(fish000_trail000_stimulus['stimulus_data'][:, 4])\n",
    "# plt.title('forward_speed')\n",
    "# plt.show()\n",
    "\n",
    "# plt.figure(figsize=(10,3))\n",
    "# plt.plot(fish000_trail000_stimulus['stimulus_data'][:, 5])\n",
    "# plt.title('fish_speed')\n",
    "# plt.show()\n",
    "\n",
    "# plt.figure(figsize=(10,3))\n",
    "# plt.plot(fish000_trail000_stimulus['stimulus_data'][:, 6])\n",
    "# plt.title('pattern_offset')\n",
    "# plt.show()\n",
    "\n",
    "# plt.figure(figsize=(10,3))\n",
    "# plt.plot(fish000_trail000_stimulus['stimulus_data'][:, 7][0:1000])\n",
    "# plt.title('dt')\n",
    "# plt.show()\n",
    "\n",
    "# plt.figure(figsize=(10,3))\n",
    "# plt.plot(fish000_trail000_stimulus['stimulus_data'][:, 8])\n",
    "# plt.title('stimulus_time')\n",
    "# plt.show()\n",
    "\n",
    "# plt.figure(figsize=(10,3))\n",
    "# plt.plot(fish000_trail000_stimulus['stimulus_data'][:, 9])\n",
    "# plt.title('stimname')\n",
    "# plt.show()\n",
    "\n",
    "# plt.figure(figsize=(10,3))\n",
    "# plt.plot(fish000_trail000_stimulus['stimulus_data'][:, 10])\n",
    "# plt.title('curr_angle')\n",
    "# plt.show()\n",
    "\n",
    "# plt.figure(figsize=(10,3))\n",
    "# plt.plot(fish000_trail000_stimulus['stimulus_data'][:, 11])\n",
    "# plt.title('curr_angle_mean')\n",
    "# plt.show()\n",
    "\n",
    "# plt.figure(figsize=(10,3))\n",
    "# plt.plot(fish000_trail000_stimulus['stimulus_data'][:, 12])\n",
    "# plt.title('baseline_angle')\n",
    "# plt.show()\n",
    "\n",
    "# plt.figure(figsize=(10,3))\n",
    "# plt.plot(fish000_trail000_stimulus['stimulus_data'][:, 13])\n",
    "# plt.title('frame_count_after_start')\n",
    "# plt.show()\n",
    "\n",
    "# plt.figure(figsize=(10,3))\n",
    "# plt.plot(fish000_trail000_stimulus['stimulus_data'][:, 14])\n",
    "# plt.title('int_angle')\n",
    "# plt.show()"
   ]
  },
  {
   "cell_type": "code",
   "execution_count": null,
   "metadata": {},
   "outputs": [],
   "source": [
    "plt.figure(figsize=(10,3))\n",
    "plt.plot(fish000_trail000_stimulus['stimulus_time'])\n",
    "plt.title('stimulus_time')\n",
    "plt.show()"
   ]
  }
 ],
 "metadata": {
  "kernelspec": {
   "display_name": "universal",
   "language": "python",
   "name": "python3"
  },
  "language_info": {
   "codemirror_mode": {
    "name": "ipython",
    "version": 3
   },
   "file_extension": ".py",
   "mimetype": "text/x-python",
   "name": "python",
   "nbconvert_exporter": "python",
   "pygments_lexer": "ipython3",
   "version": "3.13.2"
  }
 },
 "nbformat": 4,
 "nbformat_minor": 2
}
