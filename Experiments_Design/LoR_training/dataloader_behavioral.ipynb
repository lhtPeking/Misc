{
 "cells": [
  {
   "cell_type": "code",
   "execution_count": null,
   "metadata": {},
   "outputs": [],
   "source": [
    "import numpy as np\n",
    "import matplotlib.pyplot as plt\n",
    "\n",
    "fish007_trial000_head_tail = np.load('/Users/haotianli/Desktop/data/Behavior/stimulus/2025-01-22_18-18-07_fish007/rawdata/trial000_head_tail_data.npz')\n",
    "fish007_trial000_stimulus = np.load('/Users/haotianli/Desktop/data/Behavior/stimulus/2025-01-22_18-18-07_fish007/rawdata/trial000_stimulus_data.npz')"
   ]
  },
  {
   "cell_type": "code",
   "execution_count": null,
   "metadata": {},
   "outputs": [],
   "source": [
    "print(\"Type:\", type(fish007_trial000_head_tail))\n",
    "print(\"Files:\", fish007_trial000_head_tail.files)\n",
    "\n",
    "for file in fish007_trial000_head_tail.files:\n",
    "    print(file, \"Shape:\", fish007_trial000_head_tail[file].shape)\n",
    "    # display(fish007_trial000_head_tail[file])\n",
    "    \n",
    "    \n",
    "display(fish007_trial000_head_tail['tail_tip_deflection'])\n",
    "plt.figure(figsize=(10,3))\n",
    "plt.plot(fish007_trial000_head_tail['tail_tip_deflection'][5000:6000])\n",
    "plt.show()\n",
    "\n",
    "print(type(fish007_trial000_head_tail['tail_tip_deflection']))"
   ]
  },
  {
   "cell_type": "code",
   "execution_count": null,
   "metadata": {},
   "outputs": [],
   "source": [
    "plt.figure(figsize=(10,3))\n",
    "plt.plot(fish007_trial000_head_tail['camera_time'])\n",
    "plt.show()\n",
    "\n",
    "plt.figure(figsize=(10,3))\n",
    "plt.plot(fish007_trial000_head_tail['tail_vigor'])\n",
    "plt.show()\n",
    "\n",
    "plt.figure(figsize=(10,3))\n",
    "plt.plot(fish007_trial000_head_tail['tail_tip_deflection'])\n",
    "plt.show()\n",
    "\n",
    "plt.figure(figsize=(10,3))\n",
    "plt.plot(fish007_trial000_head_tail['tail_bout_information'])\n",
    "plt.show()"
   ]
  },
  {
   "cell_type": "code",
   "execution_count": null,
   "metadata": {},
   "outputs": [],
   "source": [
    "print(\"Type:\", type(fish007_trial000_stimulus))\n",
    "print(\"Files:\", fish007_trial000_stimulus.files)\n",
    "for file in fish007_trial000_stimulus.files:\n",
    "    print(file, \"Shape:\", fish007_trial000_stimulus[file].shape)"
   ]
  },
  {
   "cell_type": "code",
   "execution_count": null,
   "metadata": {},
   "outputs": [],
   "source": [
    "from Statistical_Methods import Statistic\n",
    "\n",
    "plt.figure(figsize=(10,3))\n",
    "plt.plot(fish007_trial000_head_tail['tail_tip_deflection'][5000:6000])\n",
    "plt.show()\n",
    "\n",
    "plt.figure(figsize=(10,3))\n",
    "plt.plot(Statistic.moving_average(fish007_trial000_head_tail['tail_tip_deflection'][5000:6000]))\n",
    "plt.show()\n",
    "\n",
    "plt.figure(figsize=(10,3))\n",
    "plt.plot(Statistic.moving_average_padded(fish007_trial000_head_tail['tail_tip_deflection'][5000:6000]))\n",
    "plt.show()\n",
    "\n",
    "plt.figure(figsize=(10,3))\n",
    "plt.plot(Statistic.moving_variance(fish007_trial000_head_tail['tail_tip_deflection'][5000:6000]))\n",
    "plt.show()\n",
    "\n",
    "plt.figure(figsize=(10,3))\n",
    "plt.plot(Statistic.moving_variance_padded(fish007_trial000_head_tail['tail_tip_deflection'][5000:6000]))\n",
    "plt.show()\n",
    "\n",
    "print(fish007_trial000_head_tail['tail_tip_deflection'][5000:6000].shape)\n",
    "print(Statistic.moving_average(fish007_trial000_head_tail['tail_tip_deflection'][5000:6000]).shape)\n",
    "print(Statistic.moving_average_padded(fish007_trial000_head_tail['tail_tip_deflection'][5000:6000]).shape)\n",
    "print(Statistic.moving_variance(fish007_trial000_head_tail['tail_tip_deflection'][5000:6000]).shape)\n",
    "print(Statistic.moving_variance_padded(fish007_trial000_head_tail['tail_tip_deflection'][5000:6000]).shape)"
   ]
  },
  {
   "cell_type": "code",
   "execution_count": null,
   "metadata": {},
   "outputs": [],
   "source": [
    "from Statistical_Methods import Statistic\n",
    "\n",
    "plt.figure(figsize=(10,3))\n",
    "plt.plot(fish007_trial000_head_tail['tail_tip_deflection'])\n",
    "plt.show()\n",
    "\n",
    "plt.figure(figsize=(10,3))\n",
    "plt.plot(Statistic.moving_average(fish007_trial000_head_tail['tail_tip_deflection']))\n",
    "plt.show()\n",
    "\n",
    "plt.figure(figsize=(10,3))\n",
    "plt.plot(Statistic.moving_variance(fish007_trial000_head_tail['tail_tip_deflection']))\n",
    "plt.show()"
   ]
  },
  {
   "cell_type": "code",
   "execution_count": null,
   "metadata": {},
   "outputs": [],
   "source": [
    "plt.figure(figsize=(10,3))\n",
    "plt.plot(fish007_trial000_head_tail['tail_tip_deflection'][5130:5250])\n",
    "plt.show()\n",
    "\n",
    "plt.figure(figsize=(10,3))\n",
    "plt.plot(Statistic.moving_average_padded(fish007_trial000_head_tail['tail_tip_deflection'])[5130:5250])\n",
    "plt.show()\n",
    "\n",
    "plt.figure(figsize=(10,3))\n",
    "plt.plot(Statistic.moving_variance_padded(fish007_trial000_head_tail['tail_tip_deflection'])[5130:5250])\n",
    "plt.show()"
   ]
  },
  {
   "cell_type": "code",
   "execution_count": null,
   "metadata": {},
   "outputs": [],
   "source": [
    "plt.figure(figsize=(10,3))\n",
    "plt.plot(fish007_trial000_head_tail['tail_tip_deflection'][16000:16500])\n",
    "plt.show()\n",
    "\n",
    "plt.figure(figsize=(10,3))\n",
    "plt.plot(Statistic.moving_average_padded(fish007_trial000_head_tail['tail_tip_deflection'])[16000:16500])\n",
    "plt.show()\n",
    "\n",
    "plt.figure(figsize=(10,3))\n",
    "plt.plot(Statistic.moving_variance_padded(fish007_trial000_head_tail['tail_tip_deflection'])[16000:16500])"
   ]
  },
  {
   "cell_type": "code",
   "execution_count": null,
   "metadata": {},
   "outputs": [],
   "source": []
  }
 ],
 "metadata": {
  "kernelspec": {
   "display_name": "universal",
   "language": "python",
   "name": "python3"
  },
  "language_info": {
   "codemirror_mode": {
    "name": "ipython",
    "version": 3
   },
   "file_extension": ".py",
   "mimetype": "text/x-python",
   "name": "python",
   "nbconvert_exporter": "python",
   "pygments_lexer": "ipython3",
   "version": "3.13.2"
  }
 },
 "nbformat": 4,
 "nbformat_minor": 2
}
