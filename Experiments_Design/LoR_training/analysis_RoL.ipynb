{
 "cells": [
  {
   "cell_type": "code",
   "execution_count": null,
   "metadata": {},
   "outputs": [],
   "source": [
    "import numpy as np\n",
    "import matplotlib.pyplot as plt\n",
    "import glob\n",
    "\n",
    "from LoR_Methods import Subtrial, LoR_Analysis, file_process\n",
    "from Statistical_Methods import Statistic\n",
    "\n",
    "RoL_stimulus_paths = file_process.extract_original_folder(\"/Users/haotianli/Code/EngertLab/Data/stimulus_meanRoL_v3\")\n",
    "print(\"RoL_stimulus_paths Shape:\", np.array(RoL_stimulus_paths).shape)\n",
    "# print(RoL_stimulus_paths[0][0])\n",
    "\n",
    "fish_number = 0\n",
    "subtrial_number = 0\n",
    "subtrial_list_index0 = []\n",
    "subtrial_list_index1 = []\n",
    "subtrial_list_index2 = []"
   ]
  },
  {
   "cell_type": "code",
   "execution_count": null,
   "metadata": {},
   "outputs": [],
   "source": [
    "for fish_individual in RoL_stimulus_paths:\n",
    "    \n",
    "    subtrial_object_index0 = []\n",
    "    subtrial_object_index1 = []\n",
    "    subtrial_object_index2 = []\n",
    "    for subtrial in fish_individual:\n",
    "        subtrial_matrix = np.load(subtrial)\n",
    "        stimulus_index = LoR_Analysis.check_index(subtrial_matrix['stimulus_data'][:, 2], 1000)\n",
    "        subtrial_object = Subtrial(subtrial_matrix, fish_number, subtrial_number, stimulus_index)\n",
    "        \n",
    "        if stimulus_index == 0:\n",
    "            subtrial_object_index0.append(subtrial_object)\n",
    "        elif stimulus_index == 1:\n",
    "            subtrial_object_index1.append(subtrial_object)\n",
    "        elif stimulus_index == 2:\n",
    "            subtrial_object_index2.append(subtrial_object)\n",
    "        else:\n",
    "            raise ValueError(\"Invalid stimulus index.\")\n",
    "        \n",
    "        subtrial_object.preference_analysis()\n",
    "        subtrial_number += 1\n",
    "    \n",
    "    fish_number += 1\n",
    "    subtrial_number = 0\n",
    "    subtrial_list_index0.append(subtrial_object_index0)\n",
    "    subtrial_list_index1.append(subtrial_object_index1)\n",
    "    subtrial_list_index2.append(subtrial_object_index2)\n",
    "    \n",
    "    \n",
    "print(subtrial_list_index0)\n",
    "print(subtrial_list_index1)\n",
    "print(subtrial_list_index2)\n",
    "\n",
    "subtrial_list_index1[0][0].preference_analysis()\n",
    "print(subtrial_list_index1[0][0].CL_preference)"
   ]
  },
  {
   "cell_type": "code",
   "execution_count": null,
   "metadata": {},
   "outputs": [],
   "source": [
    "print(subtrial_list_index0[2][0].fish_number, subtrial_list_index0[2][0].trial_number, subtrial_list_index0[2][0].stimulus_index)\n",
    "\n",
    "# plt.figure(figsize=(50,3))\n",
    "# plt.plot(subtrial_list_index0[2][0].subtrial_matrix['stimulus_data'][:, 10])\n",
    "# plt.show()\n",
    "\n",
    "for i in range(5):\n",
    "    plt.figure(figsize=(20,3))\n",
    "    data1 = subtrial_list_index0[2][0].subtrial_matrix['stimulus_data'][:, 10][subtrial_list_index0[2][0].CL_start_series[i]:subtrial_list_index0[2][0].CL_end_series[i]]\n",
    "    data2 = subtrial_list_index0[2][0].subtrial_matrix['stimulus_data'][:, 10][subtrial_list_index0[2][0].Condition_start_series[i]:subtrial_list_index0[2][0].Condition_end_series[i]]\n",
    "    x1 = np.arange(0, len(data1))\n",
    "    x2 = np.arange(len(data1), len(data1) + len(data2))\n",
    "    plt.plot(x1, data1)\n",
    "    plt.plot(x2, data2)\n",
    "    plt.show()\n",
    "    \n"
   ]
  }
 ],
 "metadata": {
  "kernelspec": {
   "display_name": "universal",
   "language": "python",
   "name": "python3"
  },
  "language_info": {
   "codemirror_mode": {
    "name": "ipython",
    "version": 3
   },
   "file_extension": ".py",
   "mimetype": "text/x-python",
   "name": "python",
   "nbconvert_exporter": "python",
   "pygments_lexer": "ipython3",
   "version": "3.13.2"
  }
 },
 "nbformat": 4,
 "nbformat_minor": 2
}
