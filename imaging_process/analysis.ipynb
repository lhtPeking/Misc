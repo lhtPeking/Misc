{
 "cells": [
  {
   "cell_type": "code",
   "execution_count": 1,
   "metadata": {},
   "outputs": [],
   "source": [
    "import numpy as np\n",
    "from imaging_methods import Imaging, Behavior, Experiment\n",
    "\n",
    "dff_path = '/Users/haotianli/Code/EngertLab/Data/image_data/lightsheet_cyto/dff_trace_20240605fish1spim1.npy'\n",
    "frames_path = '/Users/haotianli/Code/EngertLab/Data/image_data/lightsheet_cyto/frames.npy'\n",
    "\n",
    "swims1_path = '/Users/haotianli/Code/EngertLab/Data/image_data/lightsheet_cyto/swims1.npy'\n",
    "swims2_path = '/Users/haotianli/Code/EngertLab/Data/image_data/lightsheet_cyto/swims2.npy'\n",
    "gain_path = '/Users/haotianli/Code/EngertLab/Data/image_data/lightsheet_cyto/gain.npy'\n",
    "grating_speed_path = '/Users/haotianli/Code/EngertLab/Data/image_data/lightsheet_cyto/grating_speed.npy'\n",
    "\n",
    "imaging = Imaging(dff_path, frames_path)\n",
    "behavior = Behavior(swims1_path, swims2_path, gain_path, grating_speed_path)\n",
    "experiment = Experiment(imaging, behavior)"
   ]
  }
 ],
 "metadata": {
  "kernelspec": {
   "display_name": "Universal",
   "language": "python",
   "name": "python3"
  },
  "language_info": {
   "codemirror_mode": {
    "name": "ipython",
    "version": 3
   },
   "file_extension": ".py",
   "mimetype": "text/x-python",
   "name": "python",
   "nbconvert_exporter": "python",
   "pygments_lexer": "ipython3",
   "version": "3.10.18"
  }
 },
 "nbformat": 4,
 "nbformat_minor": 2
}
