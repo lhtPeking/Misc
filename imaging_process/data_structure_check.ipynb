{
 "cells": [
  {
   "cell_type": "code",
   "execution_count": 1,
   "metadata": {},
   "outputs": [
    {
     "name": "stdout",
     "output_type": "stream",
     "text": [
      "NPY version: (1, 0)\n",
      "Shape: (151066, 17122)\n",
      "Fortran order: False\n",
      "Dtype: float32\n"
     ]
    }
   ],
   "source": [
    "# check dff\n",
    "import numpy as np\n",
    "from numpy.lib.format import read_magic, read_array_header_1_0, read_array_header_2_0\n",
    "\n",
    "with open('/Users/haotianli/Code/EngertLab/Data/image_data/lightsheet_cyto/dff_trace_20240605fish1spim1.npy', 'rb') as f:\n",
    "    version = read_magic(f)  # 返回 (major, minor) 版本号\n",
    "    if version == (1, 0):\n",
    "        header = read_array_header_1_0(f)\n",
    "    else:\n",
    "        header = read_array_header_2_0(f)\n",
    "    shape, fortran_order, dtype = header\n",
    "\n",
    "print(\"NPY version:\", version)\n",
    "print(\"Shape:\",        shape)\n",
    "print(\"Fortran order:\", fortran_order)\n",
    "print(\"Dtype:\",        dtype)"
   ]
  },
  {
   "cell_type": "code",
   "execution_count": 2,
   "metadata": {},
   "outputs": [
    {
     "name": "stdout",
     "output_type": "stream",
     "text": [
      "NPY version: (1, 0)\n",
      "Shape: (21726380,)\n",
      "Fortran order: False\n",
      "Dtype: float64\n"
     ]
    }
   ],
   "source": [
    "# check ephy swims1\n",
    "import numpy as np\n",
    "from numpy.lib.format import read_magic, read_array_header_1_0, read_array_header_2_0\n",
    "\n",
    "with open('/Users/haotianli/Code/EngertLab/Data/image_data/lightsheet_cyto/swims1.npy', 'rb') as f:\n",
    "    version = read_magic(f)  # 返回 (major, minor) 版本号\n",
    "    if version == (1, 0):\n",
    "        header = read_array_header_1_0(f)\n",
    "    else:\n",
    "        header = read_array_header_2_0(f)\n",
    "    shape, fortran_order, dtype = header\n",
    "\n",
    "print(\"NPY version:\", version)\n",
    "print(\"Shape:\",        shape)\n",
    "print(\"Fortran order:\", fortran_order)\n",
    "print(\"Dtype:\",        dtype)"
   ]
  },
  {
   "cell_type": "code",
   "execution_count": 3,
   "metadata": {},
   "outputs": [
    {
     "name": "stdout",
     "output_type": "stream",
     "text": [
      "NPY version: (1, 0)\n",
      "Shape: (21726380,)\n",
      "Fortran order: False\n",
      "Dtype: float64\n"
     ]
    }
   ],
   "source": [
    "# check ephy swims2\n",
    "import numpy as np\n",
    "from numpy.lib.format import read_magic, read_array_header_1_0, read_array_header_2_0\n",
    "\n",
    "with open('/Users/haotianli/Code/EngertLab/Data/image_data/lightsheet_cyto/swims2.npy', 'rb') as f:\n",
    "    version = read_magic(f)  # 返回 (major, minor) 版本号\n",
    "    if version == (1, 0):\n",
    "        header = read_array_header_1_0(f)\n",
    "    else:\n",
    "        header = read_array_header_2_0(f)\n",
    "    shape, fortran_order, dtype = header\n",
    "\n",
    "print(\"NPY version:\", version)\n",
    "print(\"Shape:\",        shape)\n",
    "print(\"Fortran order:\", fortran_order)\n",
    "print(\"Dtype:\",        dtype)"
   ]
  },
  {
   "cell_type": "code",
   "execution_count": 4,
   "metadata": {},
   "outputs": [
    {
     "name": "stdout",
     "output_type": "stream",
     "text": [
      "NPY version: (1, 0)\n",
      "Shape: (21726380,)\n",
      "Fortran order: False\n",
      "Dtype: float32\n"
     ]
    }
   ],
   "source": [
    "# check gain\n",
    "import numpy as np\n",
    "from numpy.lib.format import read_magic, read_array_header_1_0, read_array_header_2_0\n",
    "\n",
    "with open('/Users/haotianli/Code/EngertLab/Data/image_data/lightsheet_cyto/gain.npy', 'rb') as f:\n",
    "    version = read_magic(f)  # 返回 (major, minor) 版本号\n",
    "    if version == (1, 0):\n",
    "        header = read_array_header_1_0(f)\n",
    "    else:\n",
    "        header = read_array_header_2_0(f)\n",
    "    shape, fortran_order, dtype = header\n",
    "\n",
    "print(\"NPY version:\", version)\n",
    "print(\"Shape:\",        shape)\n",
    "print(\"Fortran order:\", fortran_order)\n",
    "print(\"Dtype:\",        dtype)"
   ]
  },
  {
   "cell_type": "code",
   "execution_count": 5,
   "metadata": {},
   "outputs": [
    {
     "name": "stdout",
     "output_type": "stream",
     "text": [
      "NPY version: (1, 0)\n",
      "Shape: (21726380,)\n",
      "Fortran order: False\n",
      "Dtype: float32\n"
     ]
    }
   ],
   "source": [
    "# check grating_speed\n",
    "import numpy as np\n",
    "from numpy.lib.format import read_magic, read_array_header_1_0, read_array_header_2_0\n",
    "\n",
    "with open('/Users/haotianli/Code/EngertLab/Data/image_data/lightsheet_cyto/grating_speed.npy', 'rb') as f:\n",
    "    version = read_magic(f)  # 返回 (major, minor) 版本号\n",
    "    if version == (1, 0):\n",
    "        header = read_array_header_1_0(f)\n",
    "    else:\n",
    "        header = read_array_header_2_0(f)\n",
    "    shape, fortran_order, dtype = header\n",
    "\n",
    "print(\"NPY version:\", version)\n",
    "print(\"Shape:\",        shape)\n",
    "print(\"Fortran order:\", fortran_order)\n",
    "print(\"Dtype:\",        dtype)"
   ]
  },
  {
   "cell_type": "code",
   "execution_count": 7,
   "metadata": {},
   "outputs": [
    {
     "name": "stdout",
     "output_type": "stream",
     "text": [
      "NPY version: (1, 0)\n",
      "Shape: (21726380,)\n",
      "Fortran order: False\n",
      "Dtype: float64\n",
      "17144.0\n"
     ]
    }
   ],
   "source": [
    "# check frames\n",
    "import numpy as np\n",
    "from numpy.lib.format import read_magic, read_array_header_1_0, read_array_header_2_0\n",
    "\n",
    "with open('/Users/haotianli/Code/EngertLab/Data/image_data/lightsheet_cyto/frames.npy', 'rb') as f:\n",
    "    version = read_magic(f)  # 返回 (major, minor) 版本号\n",
    "    if version == (1, 0):\n",
    "        header = read_array_header_1_0(f)\n",
    "    else:\n",
    "        header = read_array_header_2_0(f)\n",
    "    shape, fortran_order, dtype = header\n",
    "\n",
    "print(\"NPY version:\", version)\n",
    "print(\"Shape:\",        shape)\n",
    "print(\"Fortran order:\", fortran_order)\n",
    "print(\"Dtype:\",        dtype)\n",
    "\n",
    "print(np.load('/Users/haotianli/Code/EngertLab/Data/image_data/lightsheet_cyto/frames.npy')[-1])"
   ]
  }
 ],
 "metadata": {
  "kernelspec": {
   "display_name": "Universal",
   "language": "python",
   "name": "python3"
  },
  "language_info": {
   "codemirror_mode": {
    "name": "ipython",
    "version": 3
   },
   "file_extension": ".py",
   "mimetype": "text/x-python",
   "name": "python",
   "nbconvert_exporter": "python",
   "pygments_lexer": "ipython3",
   "version": "3.10.18"
  }
 },
 "nbformat": 4,
 "nbformat_minor": 2
}
