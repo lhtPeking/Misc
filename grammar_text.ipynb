{
 "cells": [
  {
   "cell_type": "code",
   "execution_count": 3,
   "metadata": {},
   "outputs": [
    {
     "name": "stdout",
     "output_type": "stream",
     "text": [
      "[0.1 0.4 0.  0.5 0.2 0.3]\n",
      "0.3\n"
     ]
    }
   ],
   "source": [
    "import numpy as np\n",
    "print(np.random.permutation([0.0, 0.1, 0.2, 0.3, 0.4, 0.5]))\n",
    "print(np.random.permutation([0.0, 0.1, 0.2, 0.3, 0.4, 0.5])[1])"
   ]
  },
  {
   "cell_type": "code",
   "execution_count": 7,
   "metadata": {},
   "outputs": [
    {
     "name": "stdout",
     "output_type": "stream",
     "text": [
      "<class 'numpy.float64'>\n",
      "<class 'float'>\n"
     ]
    }
   ],
   "source": [
    "print(type(np.random.permutation([0.0, 0.1, 0.2, 0.3, 0.4, 0.5])[1]))\n",
    "print(type(float(np.random.permutation([0.0, 0.1, 0.2, 0.3, 0.4, 0.5])[1])))"
   ]
  }
 ],
 "metadata": {
  "kernelspec": {
   "display_name": "Universal",
   "language": "python",
   "name": "python3"
  },
  "language_info": {
   "codemirror_mode": {
    "name": "ipython",
    "version": 3
   },
   "file_extension": ".py",
   "mimetype": "text/x-python",
   "name": "python",
   "nbconvert_exporter": "python",
   "pygments_lexer": "ipython3",
   "version": "3.12.2"
  }
 },
 "nbformat": 4,
 "nbformat_minor": 2
}
