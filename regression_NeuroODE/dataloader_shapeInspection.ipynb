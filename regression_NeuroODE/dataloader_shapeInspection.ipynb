{
 "cells": [
  {
   "cell_type": "code",
   "execution_count": 1,
   "metadata": {},
   "outputs": [],
   "source": [
    "import numpy as np\n",
    "dff_data = np.load('/Users/haotianli/Desktop/data/DataforHaotian/dff_trace.npy')"
   ]
  },
  {
   "cell_type": "code",
   "execution_count": 2,
   "metadata": {},
   "outputs": [
    {
     "name": "stdout",
     "output_type": "stream",
     "text": [
      "DFF type: <class 'numpy.ndarray'>\n",
      "DFF shape: (94360, 8382)\n",
      "DFF Dtype: float32\n"
     ]
    }
   ],
   "source": [
    "print(\"DFF type:\", type(dff_data))\n",
    "print(\"DFF shape:\", dff_data.shape)\n",
    "print(\"DFF Dtype:\", dff_data.dtype)"
   ]
  },
  {
   "cell_type": "code",
   "execution_count": 12,
   "metadata": {},
   "outputs": [
    {
     "name": "stdout",
     "output_type": "stream",
     "text": [
      "[Dataset] background | shape: () | dtype: float64\n",
      "[Dataset] cell_baseline | shape: (94360, 8382) | dtype: float32\n",
      "[Dataset] cell_block_id | shape: (94360,) | dtype: int64\n",
      "[Dataset] cell_timeseries | shape: (94360, 8382) | dtype: float32\n",
      "[Dataset] cell_timeseries_raw | shape: (94360, 8382) | dtype: float32\n",
      "[Dataset] cell_weights | shape: (94360, 177) | dtype: float32\n",
      "[Dataset] cell_x | shape: (94360, 177) | dtype: int64\n",
      "[Dataset] cell_y | shape: (94360, 177) | dtype: int64\n",
      "[Dataset] cell_z | shape: (94360, 177) | dtype: int64\n",
      "[Dataset] n | shape: () | dtype: int64\n",
      "[Dataset] t | shape: () | dtype: int64\n",
      "[Dataset] volume_id | shape: (1024, 612, 18) | dtype: float64\n",
      "[Dataset] volume_weight | shape: (1024, 612, 18) | dtype: float64\n",
      "[Dataset] x | shape: () | dtype: int64\n",
      "[Dataset] y | shape: () | dtype: int64\n",
      "[Dataset] z | shape: () | dtype: int64\n",
      "<HDF5 dataset \"cell_x\": shape (94360, 177), type \"<i8\">\n"
     ]
    }
   ],
   "source": [
    "import h5py\n",
    "with h5py.File('/Users/haotianli/Desktop/data/DataforHaotian/cells0_clean-001.hdf5', 'r') as f:\n",
    "    def print_structure(name, obj):\n",
    "        if isinstance(obj, h5py.Dataset):\n",
    "            print(f\"[Dataset] {name} | shape: {obj.shape} | dtype: {obj.dtype}\")\n",
    "        elif isinstance(obj, h5py.Group):\n",
    "            print(f\"[Group] {name}\")\n",
    "    \n",
    "    f.visititems(print_structure)\n",
    "    print(f['cell_x'])"
   ]
  },
  {
   "cell_type": "markdown",
   "metadata": {},
   "source": [
    "~2Hz: 8382 frames; 94360: cell number;"
   ]
  }
 ],
 "metadata": {
  "kernelspec": {
   "display_name": "universal",
   "language": "python",
   "name": "python3"
  },
  "language_info": {
   "codemirror_mode": {
    "name": "ipython",
    "version": 3
   },
   "file_extension": ".py",
   "mimetype": "text/x-python",
   "name": "python",
   "nbconvert_exporter": "python",
   "pygments_lexer": "ipython3",
   "version": "3.13.2"
  }
 },
 "nbformat": 4,
 "nbformat_minor": 2
}
