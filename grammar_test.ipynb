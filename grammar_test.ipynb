{
 "cells": [
  {
   "cell_type": "code",
   "execution_count": 3,
   "metadata": {},
   "outputs": [
    {
     "name": "stdout",
     "output_type": "stream",
     "text": [
      "[0.1 0.4 0.  0.5 0.2 0.3]\n",
      "0.3\n"
     ]
    }
   ],
   "source": [
    "import numpy as np\n",
    "print(np.random.permutation([0.0, 0.1, 0.2, 0.3, 0.4, 0.5]))\n",
    "print(np.random.permutation([0.0, 0.1, 0.2, 0.3, 0.4, 0.5])[1])"
   ]
  },
  {
   "cell_type": "code",
   "execution_count": 7,
   "metadata": {},
   "outputs": [
    {
     "name": "stdout",
     "output_type": "stream",
     "text": [
      "<class 'numpy.float64'>\n",
      "<class 'float'>\n"
     ]
    }
   ],
   "source": [
    "print(type(np.random.permutation([0.0, 0.1, 0.2, 0.3, 0.4, 0.5])[1]))\n",
    "print(type(float(np.random.permutation([0.0, 0.1, 0.2, 0.3, 0.4, 0.5])[1])))"
   ]
  },
  {
   "cell_type": "code",
   "execution_count": 6,
   "metadata": {},
   "outputs": [
    {
     "data": {
      "image/png": "[encoded data removed]",
      "text/plain": [
       "<Figure size 1000x300 with 1 Axes>"
      ]
     },
     "metadata": {},
     "output_type": "display_data"
    }
   ],
   "source": [
    "from Methods import stimuli, file_process\n",
    "import numpy as np\n",
    "import matplotlib.pyplot as plt\n",
    "contrast_rig1_0721_path = \"/Users/haotianli/Code/EngertLab/Data/0720_0721/rig1/20250721/stimulus_contrast_v1_debugged\"\n",
    "\n",
    "contrast_rig1_0721_stimulus_data_paths, contrast_rig1_0721_HT_data_paths = file_process.extract_from_stimuli(contrast_rig1_0721_path)\n",
    "\n",
    "contrast_rig1_0721_stimulus_data_fish0_trial0 = np.load(contrast_rig1_0721_stimulus_data_paths[0][0])\n",
    "\n",
    "dynamic_contrast_fish0_trial0 = contrast_rig1_0721_stimulus_data_fish0_trial0['stimulus_data'][:, 13]\n",
    "\n",
    "plt.figure(figsize=(10,3))\n",
    "plt.plot(dynamic_contrast_fish0_trial0)\n",
    "plt.show()"
   ]
  },
  {
   "cell_type": "code",
   "execution_count": 2,
   "metadata": {},
   "outputs": [
    {
     "name": "stdout",
     "output_type": "stream",
     "text": [
      "[ 1.    3.25  5.5   7.75 10.  ]\n"
     ]
    }
   ],
   "source": [
    "import numpy as np\n",
    "print(np.linspace(1, 10, 5))"
   ]
  }
 ],
 "metadata": {
  "kernelspec": {
   "display_name": "Universal",
   "language": "python",
   "name": "python3"
  },
  "language_info": {
   "codemirror_mode": {
    "name": "ipython",
    "version": 3
   },
   "file_extension": ".py",
   "mimetype": "text/x-python",
   "name": "python",
   "nbconvert_exporter": "python",
   "pygments_lexer": "ipython3",
   "version": "3.10.18"
  }
 },
 "nbformat": 4,
 "nbformat_minor": 2
}
